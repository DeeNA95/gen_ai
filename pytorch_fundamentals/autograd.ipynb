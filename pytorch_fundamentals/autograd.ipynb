{
 "cells": [
  {
   "cell_type": "code",
   "execution_count": null,
   "id": "c5287ed6",
   "metadata": {},
   "outputs": [
    {
     "name": "stdout",
     "output_type": "stream",
     "text": [
      "x: tensor([0.5485, 0.4984, 0.8130], device='mps:0', requires_grad=True)\n",
      "y: tensor([1.5485, 1.4984, 1.8130], device='mps:0', grad_fn=<AddBackward0>)\n",
      "z: tensor([3.0971, 2.9967, 3.6260], device='mps:0', grad_fn=<MulBackward0>)\n",
      "a: 3.239912271499634\n",
      "x.grad: tensor([0.3000, 0.5000, 0.7000], device='mps:0')\n"
     ]
    }
   ],
   "source": [
    "import torch\n",
    "\n",
    "x = torch.rand(3, requires_grad=True, device='mps')\n",
    "print(f'x: {x}')\n",
    "y = x + 1\n",
    "print(f'y: {y}')\n",
    "\n",
    "z = y * 2\n",
    "print(f'z: {z}')\n",
    "\n",
    "a = z.mean()\n",
    "print(f'a: {a}')\n",
    "#grads can only be implicitly calculated ie (backward) if the tensor has requires_grad=True and value is scalar\n",
    "# a.backward()\n",
    "# print(f'x.grad: {x.grad}')\n",
    "\n",
    "\n",
    "v = torch.tensor([0.15, 0.25, 0.35], device='mps')\n",
    "z.backward(v)\n",
    "print(f'x.grad: {x.grad}')\n",
    "\n",
    "#remove gradients\n",
    "x.detach_()\n",
    "x.requires_grad_(False)\n",
    "with torch.no_grad():\n",
    "    x"
   ]
  },
  {
   "cell_type": "code",
   "execution_count": 21,
   "id": "7aa61255",
   "metadata": {},
   "outputs": [
    {
     "name": "stdout",
     "output_type": "stream",
     "text": [
      "weights.grad: tensor([[3., 3., 3.],\n",
      "        [3., 3., 3.],\n",
      "        [3., 3., 3.]], device='mps:0')\n",
      "weights.grad: tensor([[3., 3., 3.],\n",
      "        [3., 3., 3.],\n",
      "        [3., 3., 3.]], device='mps:0')\n",
      "weights.grad: tensor([[3., 3., 3.],\n",
      "        [3., 3., 3.],\n",
      "        [3., 3., 3.]], device='mps:0')\n"
     ]
    }
   ],
   "source": [
    "weights = torch.ones(3, 3, device='mps', requires_grad=True)\n",
    "\n",
    "for epochs in range(3):\n",
    "    out = (weights*3).sum()\n",
    "    out.backward()\n",
    "    print(f'weights.grad: {weights.grad}')\n",
    "    weights.grad.zero_()"
   ]
  }
 ],
 "metadata": {
  "kernelspec": {
   "display_name": "Python 3",
   "language": "python",
   "name": "python3"
  },
  "language_info": {
   "codemirror_mode": {
    "name": "ipython",
    "version": 3
   },
   "file_extension": ".py",
   "mimetype": "text/x-python",
   "name": "python",
   "nbconvert_exporter": "python",
   "pygments_lexer": "ipython3",
   "version": "3.12.8"
  }
 },
 "nbformat": 4,
 "nbformat_minor": 5
}
